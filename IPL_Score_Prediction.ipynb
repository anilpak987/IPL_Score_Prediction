{
  "nbformat": 4,
  "nbformat_minor": 0,
  "metadata": {
    "kernelspec": {
      "display_name": "Python 3",
      "language": "python",
      "name": "python3"
    },
    "language_info": {
      "codemirror_mode": {
        "name": "ipython",
        "version": 3
      },
      "file_extension": ".py",
      "mimetype": "text/x-python",
      "name": "python",
      "nbconvert_exporter": "python",
      "pygments_lexer": "ipython3",
      "version": "3.7.6"
    },
    "colab": {
      "name": "IPL_Score_Prediction.ipynb",
      "provenance": [],
      "collapsed_sections": [],
      "include_colab_link": true
    },
    "accelerator": "GPU"
  },
  "cells": [
    {
      "cell_type": "markdown",
      "metadata": {
        "id": "view-in-github",
        "colab_type": "text"
      },
      "source": [
        "<a href=\"https://colab.research.google.com/github/anilpak987/IPL_Score_Prediction/blob/master/IPL_Score_Prediction.ipynb\" target=\"_parent\"><img src=\"https://colab.research.google.com/assets/colab-badge.svg\" alt=\"Open In Colab\"/></a>"
      ]
    },
    {
      "cell_type": "code",
      "metadata": {
        "id": "oCmW-2ZUZIGx",
        "colab_type": "code",
        "colab": {
          "base_uri": "https://localhost:8080/",
          "height": 71
        },
        "outputId": "1dd2ba5e-59f1-44bc-fa88-94dd6c46da0b"
      },
      "source": [
        "#Libraries\n",
        "import time\n",
        "import sys\n",
        "import pandas as pd\n",
        "import numpy as np\n",
        "import seaborn as sns\n",
        "import matplotlib.pyplot as plt"
      ],
      "execution_count": 5,
      "outputs": [
        {
          "output_type": "stream",
          "text": [
            "/usr/local/lib/python3.6/dist-packages/statsmodels/tools/_testing.py:19: FutureWarning: pandas.util.testing is deprecated. Use the functions in the public API at pandas.testing instead.\n",
            "  import pandas.util.testing as tm\n"
          ],
          "name": "stderr"
        }
      ]
    },
    {
      "cell_type": "code",
      "metadata": {
        "id": "t5C76gU3exQJ",
        "colab_type": "code",
        "colab": {
          "base_uri": "https://localhost:8080/",
          "height": 122
        },
        "outputId": "af570b76-ae30-4afb-e82e-0a392c629593"
      },
      "source": [
        "from google.colab import drive\n",
        "drive.mount('/content/drive')"
      ],
      "execution_count": 1,
      "outputs": [
        {
          "output_type": "stream",
          "text": [
            "Go to this URL in a browser: https://accounts.google.com/o/oauth2/auth?client_id=947318989803-6bn6qk8qdgf4n4g3pfee6491hc0brc4i.apps.googleusercontent.com&redirect_uri=urn%3aietf%3awg%3aoauth%3a2.0%3aoob&scope=email%20https%3a%2f%2fwww.googleapis.com%2fauth%2fdocs.test%20https%3a%2f%2fwww.googleapis.com%2fauth%2fdrive%20https%3a%2f%2fwww.googleapis.com%2fauth%2fdrive.photos.readonly%20https%3a%2f%2fwww.googleapis.com%2fauth%2fpeopleapi.readonly&response_type=code\n",
            "\n",
            "Enter your authorization code:\n",
            "··········\n",
            "Mounted at /content/drive\n"
          ],
          "name": "stdout"
        }
      ]
    },
    {
      "cell_type": "code",
      "metadata": {
        "id": "v-BfpVj1ZIIs",
        "colab_type": "code",
        "colab": {
          "base_uri": "https://localhost:8080/",
          "height": 428
        },
        "outputId": "47449ed4-91d3-4993-e047-365c7c7ce20e"
      },
      "source": [
        "#creating dataframe\n",
        "ipl_data=pd.read_csv('/content/drive/My Drive/ipl.csv')\n",
        "print(ipl_data.shape)\n",
        "ipl_data.head()"
      ],
      "execution_count": 6,
      "outputs": [
        {
          "output_type": "stream",
          "text": [
            "(76014, 15)\n"
          ],
          "name": "stdout"
        },
        {
          "output_type": "execute_result",
          "data": {
            "text/html": [
              "<div>\n",
              "<style scoped>\n",
              "    .dataframe tbody tr th:only-of-type {\n",
              "        vertical-align: middle;\n",
              "    }\n",
              "\n",
              "    .dataframe tbody tr th {\n",
              "        vertical-align: top;\n",
              "    }\n",
              "\n",
              "    .dataframe thead th {\n",
              "        text-align: right;\n",
              "    }\n",
              "</style>\n",
              "<table border=\"1\" class=\"dataframe\">\n",
              "  <thead>\n",
              "    <tr style=\"text-align: right;\">\n",
              "      <th></th>\n",
              "      <th>mid</th>\n",
              "      <th>date</th>\n",
              "      <th>venue</th>\n",
              "      <th>bat_team</th>\n",
              "      <th>bowl_team</th>\n",
              "      <th>batsman</th>\n",
              "      <th>bowler</th>\n",
              "      <th>runs</th>\n",
              "      <th>wickets</th>\n",
              "      <th>overs</th>\n",
              "      <th>runs_last_5</th>\n",
              "      <th>wickets_last_5</th>\n",
              "      <th>striker</th>\n",
              "      <th>non-striker</th>\n",
              "      <th>total</th>\n",
              "    </tr>\n",
              "  </thead>\n",
              "  <tbody>\n",
              "    <tr>\n",
              "      <th>0</th>\n",
              "      <td>1</td>\n",
              "      <td>2008-04-18</td>\n",
              "      <td>M Chinnaswamy Stadium</td>\n",
              "      <td>Kolkata Knight Riders</td>\n",
              "      <td>Royal Challengers Bangalore</td>\n",
              "      <td>SC Ganguly</td>\n",
              "      <td>P Kumar</td>\n",
              "      <td>1</td>\n",
              "      <td>0</td>\n",
              "      <td>0.1</td>\n",
              "      <td>1</td>\n",
              "      <td>0</td>\n",
              "      <td>0</td>\n",
              "      <td>0</td>\n",
              "      <td>222</td>\n",
              "    </tr>\n",
              "    <tr>\n",
              "      <th>1</th>\n",
              "      <td>1</td>\n",
              "      <td>2008-04-18</td>\n",
              "      <td>M Chinnaswamy Stadium</td>\n",
              "      <td>Kolkata Knight Riders</td>\n",
              "      <td>Royal Challengers Bangalore</td>\n",
              "      <td>BB McCullum</td>\n",
              "      <td>P Kumar</td>\n",
              "      <td>1</td>\n",
              "      <td>0</td>\n",
              "      <td>0.2</td>\n",
              "      <td>1</td>\n",
              "      <td>0</td>\n",
              "      <td>0</td>\n",
              "      <td>0</td>\n",
              "      <td>222</td>\n",
              "    </tr>\n",
              "    <tr>\n",
              "      <th>2</th>\n",
              "      <td>1</td>\n",
              "      <td>2008-04-18</td>\n",
              "      <td>M Chinnaswamy Stadium</td>\n",
              "      <td>Kolkata Knight Riders</td>\n",
              "      <td>Royal Challengers Bangalore</td>\n",
              "      <td>BB McCullum</td>\n",
              "      <td>P Kumar</td>\n",
              "      <td>2</td>\n",
              "      <td>0</td>\n",
              "      <td>0.2</td>\n",
              "      <td>2</td>\n",
              "      <td>0</td>\n",
              "      <td>0</td>\n",
              "      <td>0</td>\n",
              "      <td>222</td>\n",
              "    </tr>\n",
              "    <tr>\n",
              "      <th>3</th>\n",
              "      <td>1</td>\n",
              "      <td>2008-04-18</td>\n",
              "      <td>M Chinnaswamy Stadium</td>\n",
              "      <td>Kolkata Knight Riders</td>\n",
              "      <td>Royal Challengers Bangalore</td>\n",
              "      <td>BB McCullum</td>\n",
              "      <td>P Kumar</td>\n",
              "      <td>2</td>\n",
              "      <td>0</td>\n",
              "      <td>0.3</td>\n",
              "      <td>2</td>\n",
              "      <td>0</td>\n",
              "      <td>0</td>\n",
              "      <td>0</td>\n",
              "      <td>222</td>\n",
              "    </tr>\n",
              "    <tr>\n",
              "      <th>4</th>\n",
              "      <td>1</td>\n",
              "      <td>2008-04-18</td>\n",
              "      <td>M Chinnaswamy Stadium</td>\n",
              "      <td>Kolkata Knight Riders</td>\n",
              "      <td>Royal Challengers Bangalore</td>\n",
              "      <td>BB McCullum</td>\n",
              "      <td>P Kumar</td>\n",
              "      <td>2</td>\n",
              "      <td>0</td>\n",
              "      <td>0.4</td>\n",
              "      <td>2</td>\n",
              "      <td>0</td>\n",
              "      <td>0</td>\n",
              "      <td>0</td>\n",
              "      <td>222</td>\n",
              "    </tr>\n",
              "  </tbody>\n",
              "</table>\n",
              "</div>"
            ],
            "text/plain": [
              "   mid        date                  venue  ... striker non-striker total\n",
              "0    1  2008-04-18  M Chinnaswamy Stadium  ...       0           0   222\n",
              "1    1  2008-04-18  M Chinnaswamy Stadium  ...       0           0   222\n",
              "2    1  2008-04-18  M Chinnaswamy Stadium  ...       0           0   222\n",
              "3    1  2008-04-18  M Chinnaswamy Stadium  ...       0           0   222\n",
              "4    1  2008-04-18  M Chinnaswamy Stadium  ...       0           0   222\n",
              "\n",
              "[5 rows x 15 columns]"
            ]
          },
          "metadata": {
            "tags": []
          },
          "execution_count": 6
        }
      ]
    },
    {
      "cell_type": "code",
      "metadata": {
        "id": "klY6VWg-ZIKD",
        "colab_type": "code",
        "colab": {
          "base_uri": "https://localhost:8080/",
          "height": 51
        },
        "outputId": "f57ad696-8db8-460a-da39-0d833a9b4af3"
      },
      "source": [
        "#Check for duplicates and remove if present.\n",
        "ipl_data=ipl_data.drop_duplicates()\n",
        "\n",
        "#count of missing values in the dataset\n",
        "print(\"Num of missing values in the dataset is:\",ipl_data.isnull().sum().sum())\n",
        "\n",
        "print(ipl_data.shape)\n",
        "#ipl_data.head()"
      ],
      "execution_count": 7,
      "outputs": [
        {
          "output_type": "stream",
          "text": [
            "Num of missing values in the dataset is: 0\n",
            "(76014, 15)\n"
          ],
          "name": "stdout"
        }
      ]
    },
    {
      "cell_type": "code",
      "metadata": {
        "id": "QjrPrvDVZINb",
        "colab_type": "code",
        "colab": {
          "base_uri": "https://localhost:8080/",
          "height": 391
        },
        "outputId": "3a19337f-4f72-41e1-fc0f-682222a1f09e"
      },
      "source": [
        "#Dropping unnecessary columns\n",
        "ipl_data=ipl_data.drop(['mid','date','striker','non-striker'],axis=1)\n",
        "print(ipl_data.shape)\n",
        "ipl_data.head()"
      ],
      "execution_count": 8,
      "outputs": [
        {
          "output_type": "stream",
          "text": [
            "(76014, 11)\n"
          ],
          "name": "stdout"
        },
        {
          "output_type": "execute_result",
          "data": {
            "text/html": [
              "<div>\n",
              "<style scoped>\n",
              "    .dataframe tbody tr th:only-of-type {\n",
              "        vertical-align: middle;\n",
              "    }\n",
              "\n",
              "    .dataframe tbody tr th {\n",
              "        vertical-align: top;\n",
              "    }\n",
              "\n",
              "    .dataframe thead th {\n",
              "        text-align: right;\n",
              "    }\n",
              "</style>\n",
              "<table border=\"1\" class=\"dataframe\">\n",
              "  <thead>\n",
              "    <tr style=\"text-align: right;\">\n",
              "      <th></th>\n",
              "      <th>venue</th>\n",
              "      <th>bat_team</th>\n",
              "      <th>bowl_team</th>\n",
              "      <th>batsman</th>\n",
              "      <th>bowler</th>\n",
              "      <th>runs</th>\n",
              "      <th>wickets</th>\n",
              "      <th>overs</th>\n",
              "      <th>runs_last_5</th>\n",
              "      <th>wickets_last_5</th>\n",
              "      <th>total</th>\n",
              "    </tr>\n",
              "  </thead>\n",
              "  <tbody>\n",
              "    <tr>\n",
              "      <th>0</th>\n",
              "      <td>M Chinnaswamy Stadium</td>\n",
              "      <td>Kolkata Knight Riders</td>\n",
              "      <td>Royal Challengers Bangalore</td>\n",
              "      <td>SC Ganguly</td>\n",
              "      <td>P Kumar</td>\n",
              "      <td>1</td>\n",
              "      <td>0</td>\n",
              "      <td>0.1</td>\n",
              "      <td>1</td>\n",
              "      <td>0</td>\n",
              "      <td>222</td>\n",
              "    </tr>\n",
              "    <tr>\n",
              "      <th>1</th>\n",
              "      <td>M Chinnaswamy Stadium</td>\n",
              "      <td>Kolkata Knight Riders</td>\n",
              "      <td>Royal Challengers Bangalore</td>\n",
              "      <td>BB McCullum</td>\n",
              "      <td>P Kumar</td>\n",
              "      <td>1</td>\n",
              "      <td>0</td>\n",
              "      <td>0.2</td>\n",
              "      <td>1</td>\n",
              "      <td>0</td>\n",
              "      <td>222</td>\n",
              "    </tr>\n",
              "    <tr>\n",
              "      <th>2</th>\n",
              "      <td>M Chinnaswamy Stadium</td>\n",
              "      <td>Kolkata Knight Riders</td>\n",
              "      <td>Royal Challengers Bangalore</td>\n",
              "      <td>BB McCullum</td>\n",
              "      <td>P Kumar</td>\n",
              "      <td>2</td>\n",
              "      <td>0</td>\n",
              "      <td>0.2</td>\n",
              "      <td>2</td>\n",
              "      <td>0</td>\n",
              "      <td>222</td>\n",
              "    </tr>\n",
              "    <tr>\n",
              "      <th>3</th>\n",
              "      <td>M Chinnaswamy Stadium</td>\n",
              "      <td>Kolkata Knight Riders</td>\n",
              "      <td>Royal Challengers Bangalore</td>\n",
              "      <td>BB McCullum</td>\n",
              "      <td>P Kumar</td>\n",
              "      <td>2</td>\n",
              "      <td>0</td>\n",
              "      <td>0.3</td>\n",
              "      <td>2</td>\n",
              "      <td>0</td>\n",
              "      <td>222</td>\n",
              "    </tr>\n",
              "    <tr>\n",
              "      <th>4</th>\n",
              "      <td>M Chinnaswamy Stadium</td>\n",
              "      <td>Kolkata Knight Riders</td>\n",
              "      <td>Royal Challengers Bangalore</td>\n",
              "      <td>BB McCullum</td>\n",
              "      <td>P Kumar</td>\n",
              "      <td>2</td>\n",
              "      <td>0</td>\n",
              "      <td>0.4</td>\n",
              "      <td>2</td>\n",
              "      <td>0</td>\n",
              "      <td>222</td>\n",
              "    </tr>\n",
              "  </tbody>\n",
              "</table>\n",
              "</div>"
            ],
            "text/plain": [
              "                   venue               bat_team  ... wickets_last_5 total\n",
              "0  M Chinnaswamy Stadium  Kolkata Knight Riders  ...              0   222\n",
              "1  M Chinnaswamy Stadium  Kolkata Knight Riders  ...              0   222\n",
              "2  M Chinnaswamy Stadium  Kolkata Knight Riders  ...              0   222\n",
              "3  M Chinnaswamy Stadium  Kolkata Knight Riders  ...              0   222\n",
              "4  M Chinnaswamy Stadium  Kolkata Knight Riders  ...              0   222\n",
              "\n",
              "[5 rows x 11 columns]"
            ]
          },
          "metadata": {
            "tags": []
          },
          "execution_count": 8
        }
      ]
    },
    {
      "cell_type": "code",
      "metadata": {
        "id": "df2EXKwzijQw",
        "colab_type": "code",
        "colab": {}
      },
      "source": [
        "#creating a dictionary of batsman and bowler.\n",
        "batsman=list(set(ipl_data['batsman'].to_list()))\n",
        "bowler=list(set(ipl_data['bowler'].to_list()))\n",
        "\n",
        "batsman.extend(bowler)\n",
        "batsman_bowler=list(set(batsman))\n",
        "batsman_bowler.sort()\n",
        "\n",
        "batsman_bowler_ind=[i for i in range(len(batsman_bowler))]\n",
        "batsman_bowler_dict=dict(zip(batsman_bowler,batsman_bowler_ind))\n",
        "\n",
        "#creating a dictionary of bat_team and bowl_team.\n",
        "bat_team=list(set(ipl_data['bat_team'].to_list()))\n",
        "bowl_team=list(set(ipl_data['bowl_team'].to_list()))\n",
        "\n",
        "bat_team.extend(bowl_team)\n",
        "bat_bowl_team=list(set(bat_team))\n",
        "bat_bowl_team.sort()\n",
        "\n",
        "bat_bowl_team_ind=[i for i in range(len(bat_bowl_team))]\n",
        "bat_bowl_team_dict=dict(zip(bat_bowl_team,bat_bowl_team_ind))\n",
        "\n",
        "#creating a dictionary of venue.\n",
        "venue=list(set(ipl_data['venue'].to_list()))\n",
        "venue.sort()\n",
        "\n",
        "venue_ind=[i for i in range(len(venue))]\n",
        "\n",
        "venue_dict=dict(zip(venue,venue_ind))"
      ],
      "execution_count": 9,
      "outputs": []
    },
    {
      "cell_type": "code",
      "metadata": {
        "id": "uqhyS-MNtA8N",
        "colab_type": "code",
        "colab": {}
      },
      "source": [
        "import pickle\n",
        "with open(\"dict.pickle\", \"wb\") as f:\n",
        "    pickle.dump((batsman_bowler_dict,bat_bowl_team_dict,venue_dict), f)\n",
        "\n",
        "#with open(\"dict.pickle\", \"rb\") as f:\n",
        "    #a,b = pickle.load(f) "
      ],
      "execution_count": 10,
      "outputs": []
    },
    {
      "cell_type": "code",
      "metadata": {
        "id": "L67kZmyikBev",
        "colab_type": "code",
        "colab": {}
      },
      "source": [
        "#replacing name with the index\n",
        "batsman_ind=[]\n",
        "bowler_ind=[]\n",
        "for i in ipl_data['batsman'].to_list():\n",
        "  batsman_ind.append(batsman_bowler_dict[i])\n",
        "for i in ipl_data['bowler'].to_list():\n",
        "  bowler_ind.append(batsman_bowler_dict[i])\n",
        "\n",
        "\n",
        "bat_team_ind=[]\n",
        "bowl_team_ind=[]\n",
        "for i in ipl_data['bat_team'].to_list():\n",
        "  bat_team_ind.append(bat_bowl_team_dict[i])\n",
        "for i in ipl_data['bowl_team'].to_list():\n",
        "  bowl_team_ind.append(bat_bowl_team_dict[i])\n",
        "\n",
        "\n",
        "match_venue_ind=[]\n",
        "for i in ipl_data['venue'].to_list():\n",
        "  match_venue_ind.append(venue_dict[i])\n"
      ],
      "execution_count": 10,
      "outputs": []
    },
    {
      "cell_type": "code",
      "metadata": {
        "id": "PPqWJjmNkryK",
        "colab_type": "code",
        "colab": {
          "base_uri": "https://localhost:8080/",
          "height": 221
        },
        "outputId": "74e4b0f0-18ce-40ac-efa6-d97675d4d899"
      },
      "source": [
        "#replacing the text columns like ['batsman','bowler','bat_team','bowl_team','venue'] with indexs.\n",
        "ipl_data=ipl_data.drop(['batsman','bowler','bat_team','bowl_team','venue'],axis=1)\n",
        "ipl_data['venue']=match_venue_ind\n",
        "ipl_data['bat_team']=bat_team_ind\n",
        "ipl_data['bowl_team']=bowl_team_ind\n",
        "ipl_data['batsman']=batsman_ind\n",
        "ipl_data['bowler']=bowler_ind\n",
        "print(ipl_data.shape)\n",
        "ipl_data.head()"
      ],
      "execution_count": 11,
      "outputs": [
        {
          "output_type": "stream",
          "text": [
            "(76014, 11)\n"
          ],
          "name": "stdout"
        },
        {
          "output_type": "execute_result",
          "data": {
            "text/html": [
              "<div>\n",
              "<style scoped>\n",
              "    .dataframe tbody tr th:only-of-type {\n",
              "        vertical-align: middle;\n",
              "    }\n",
              "\n",
              "    .dataframe tbody tr th {\n",
              "        vertical-align: top;\n",
              "    }\n",
              "\n",
              "    .dataframe thead th {\n",
              "        text-align: right;\n",
              "    }\n",
              "</style>\n",
              "<table border=\"1\" class=\"dataframe\">\n",
              "  <thead>\n",
              "    <tr style=\"text-align: right;\">\n",
              "      <th></th>\n",
              "      <th>runs</th>\n",
              "      <th>wickets</th>\n",
              "      <th>overs</th>\n",
              "      <th>runs_last_5</th>\n",
              "      <th>wickets_last_5</th>\n",
              "      <th>total</th>\n",
              "      <th>venue</th>\n",
              "      <th>bat_team</th>\n",
              "      <th>bowl_team</th>\n",
              "      <th>batsman</th>\n",
              "      <th>bowler</th>\n",
              "    </tr>\n",
              "  </thead>\n",
              "  <tbody>\n",
              "    <tr>\n",
              "      <th>0</th>\n",
              "      <td>1</td>\n",
              "      <td>0</td>\n",
              "      <td>0.1</td>\n",
              "      <td>1</td>\n",
              "      <td>0</td>\n",
              "      <td>222</td>\n",
              "      <td>14</td>\n",
              "      <td>6</td>\n",
              "      <td>12</td>\n",
              "      <td>382</td>\n",
              "      <td>295</td>\n",
              "    </tr>\n",
              "    <tr>\n",
              "      <th>1</th>\n",
              "      <td>1</td>\n",
              "      <td>0</td>\n",
              "      <td>0.2</td>\n",
              "      <td>1</td>\n",
              "      <td>0</td>\n",
              "      <td>222</td>\n",
              "      <td>14</td>\n",
              "      <td>6</td>\n",
              "      <td>12</td>\n",
              "      <td>69</td>\n",
              "      <td>295</td>\n",
              "    </tr>\n",
              "    <tr>\n",
              "      <th>2</th>\n",
              "      <td>2</td>\n",
              "      <td>0</td>\n",
              "      <td>0.2</td>\n",
              "      <td>2</td>\n",
              "      <td>0</td>\n",
              "      <td>222</td>\n",
              "      <td>14</td>\n",
              "      <td>6</td>\n",
              "      <td>12</td>\n",
              "      <td>69</td>\n",
              "      <td>295</td>\n",
              "    </tr>\n",
              "    <tr>\n",
              "      <th>3</th>\n",
              "      <td>2</td>\n",
              "      <td>0</td>\n",
              "      <td>0.3</td>\n",
              "      <td>2</td>\n",
              "      <td>0</td>\n",
              "      <td>222</td>\n",
              "      <td>14</td>\n",
              "      <td>6</td>\n",
              "      <td>12</td>\n",
              "      <td>69</td>\n",
              "      <td>295</td>\n",
              "    </tr>\n",
              "    <tr>\n",
              "      <th>4</th>\n",
              "      <td>2</td>\n",
              "      <td>0</td>\n",
              "      <td>0.4</td>\n",
              "      <td>2</td>\n",
              "      <td>0</td>\n",
              "      <td>222</td>\n",
              "      <td>14</td>\n",
              "      <td>6</td>\n",
              "      <td>12</td>\n",
              "      <td>69</td>\n",
              "      <td>295</td>\n",
              "    </tr>\n",
              "  </tbody>\n",
              "</table>\n",
              "</div>"
            ],
            "text/plain": [
              "   runs  wickets  overs  runs_last_5  ...  bat_team  bowl_team  batsman  bowler\n",
              "0     1        0    0.1            1  ...         6         12      382     295\n",
              "1     1        0    0.2            1  ...         6         12       69     295\n",
              "2     2        0    0.2            2  ...         6         12       69     295\n",
              "3     2        0    0.3            2  ...         6         12       69     295\n",
              "4     2        0    0.4            2  ...         6         12       69     295\n",
              "\n",
              "[5 rows x 11 columns]"
            ]
          },
          "metadata": {
            "tags": []
          },
          "execution_count": 11
        }
      ]
    },
    {
      "cell_type": "code",
      "metadata": {
        "id": "ew2vUU6MZIOf",
        "colab_type": "code",
        "colab": {}
      },
      "source": [
        "#one hot encoding using pd.get_dummies\n",
        "#ipl_data_final=pd.get_dummies(ipl_data,drop_first=True)\n",
        "#print(ipl_data_final.shape)\n",
        "#ipl_data_final.head()"
      ],
      "execution_count": null,
      "outputs": []
    },
    {
      "cell_type": "code",
      "metadata": {
        "id": "vicyqf4eZIPq",
        "colab_type": "code",
        "colab": {
          "base_uri": "https://localhost:8080/",
          "height": 51
        },
        "outputId": "18185515-297e-43ef-ec35-76f8651c8ee8"
      },
      "source": [
        "#seperating the target variable\n",
        "X=ipl_data.drop('total',axis=1)\n",
        "Y=ipl_data['total']\n",
        "print(X.shape)\n",
        "print(Y.shape)"
      ],
      "execution_count": 12,
      "outputs": [
        {
          "output_type": "stream",
          "text": [
            "(76014, 10)\n",
            "(76014,)\n"
          ],
          "name": "stdout"
        }
      ]
    },
    {
      "cell_type": "code",
      "metadata": {
        "id": "BXrFthOcZIQi",
        "colab_type": "code",
        "colab": {
          "base_uri": "https://localhost:8080/",
          "height": 51
        },
        "outputId": "6e00ac8e-155b-4816-888c-c95d5f24029b"
      },
      "source": [
        "from sklearn.model_selection import train_test_split\n",
        "X_train,X_test,Y_train,Y_test=train_test_split(X,Y,test_size=0.25,random_state=42,stratify=Y)\n",
        "print(X_train.shape,Y_train.shape)\n",
        "print(X_test.shape,Y_test.shape)"
      ],
      "execution_count": 13,
      "outputs": [
        {
          "output_type": "stream",
          "text": [
            "(57010, 10) (57010,)\n",
            "(19004, 10) (19004,)\n"
          ],
          "name": "stdout"
        }
      ]
    },
    {
      "cell_type": "code",
      "metadata": {
        "id": "FYd6twqJbpN9",
        "colab_type": "code",
        "colab": {}
      },
      "source": [
        "params={'n_estimators':[int(i) for i in np.linspace(100,2000,15)],\n",
        "        'max_depth':[int(i) for i in np.linspace(3,100,15)],\n",
        "        'min_samples_split':[1,2,5,10],\n",
        "        'min_samples_leaf':[1,2,5,10],\n",
        "        'max_features':['auto', 'sqrt', 'log2']"
      ],
      "execution_count": null,
      "outputs": []
    },
    {
      "cell_type": "code",
      "metadata": {
        "id": "j1hgy5m4dUqY",
        "colab_type": "code",
        "colab": {
          "base_uri": "https://localhost:8080/",
          "height": 238
        },
        "outputId": "96ab3a0d-97ca-4367-97ea-7afa5f243d5f"
      },
      "source": [
        "from sklearn.model_selection import RandomizedSearchCV\n",
        "from sklearn.ensemble import RandomForestRegressor\n",
        "rf=RandomForestRegressor(n_estimators=1000,max_depth=30,n_jobs=-1,verbose=1)\n",
        "rf.fit(X_train,Y_train)"
      ],
      "execution_count": 14,
      "outputs": [
        {
          "output_type": "stream",
          "text": [
            "[Parallel(n_jobs=-1)]: Using backend ThreadingBackend with 2 concurrent workers.\n",
            "[Parallel(n_jobs=-1)]: Done  46 tasks      | elapsed:    7.5s\n",
            "[Parallel(n_jobs=-1)]: Done 196 tasks      | elapsed:   31.7s\n",
            "[Parallel(n_jobs=-1)]: Done 446 tasks      | elapsed:  1.2min\n",
            "[Parallel(n_jobs=-1)]: Done 796 tasks      | elapsed:  2.1min\n",
            "[Parallel(n_jobs=-1)]: Done 1000 out of 1000 | elapsed:  2.7min finished\n"
          ],
          "name": "stderr"
        },
        {
          "output_type": "execute_result",
          "data": {
            "text/plain": [
              "RandomForestRegressor(bootstrap=True, ccp_alpha=0.0, criterion='mse',\n",
              "                      max_depth=30, max_features='auto', max_leaf_nodes=None,\n",
              "                      max_samples=None, min_impurity_decrease=0.0,\n",
              "                      min_impurity_split=None, min_samples_leaf=1,\n",
              "                      min_samples_split=2, min_weight_fraction_leaf=0.0,\n",
              "                      n_estimators=1000, n_jobs=-1, oob_score=False,\n",
              "                      random_state=None, verbose=1, warm_start=False)"
            ]
          },
          "metadata": {
            "tags": []
          },
          "execution_count": 14
        }
      ]
    },
    {
      "cell_type": "code",
      "metadata": {
        "id": "XMxeb2tCShNO",
        "colab_type": "code",
        "colab": {}
      },
      "source": [
        "import pickle\n",
        "pickle.dump((rf),open('rf.pkl','wb')) #for dump"
      ],
      "execution_count": 16,
      "outputs": []
    },
    {
      "cell_type": "code",
      "metadata": {
        "id": "2A6useewdzVB",
        "colab_type": "code",
        "colab": {
          "base_uri": "https://localhost:8080/",
          "height": 289
        },
        "outputId": "1652003c-beb2-4300-e6af-5173e4d320f1"
      },
      "source": [
        "y_train_pred=rf.predict(X_train)\n",
        "y_test_pred=rf.predict(X_test)"
      ],
      "execution_count": 146,
      "outputs": [
        {
          "output_type": "stream",
          "text": [
            "[Parallel(n_jobs=2)]: Using backend ThreadingBackend with 2 concurrent workers.\n",
            "[Parallel(n_jobs=2)]: Done  46 tasks      | elapsed:    0.5s\n",
            "[Parallel(n_jobs=2)]: Done 196 tasks      | elapsed:    1.9s\n",
            "[Parallel(n_jobs=2)]: Done 446 tasks      | elapsed:    4.4s\n",
            "[Parallel(n_jobs=2)]: Done 796 tasks      | elapsed:    7.8s\n",
            "[Parallel(n_jobs=2)]: Done 1246 tasks      | elapsed:   12.2s\n",
            "[Parallel(n_jobs=2)]: Done 1796 tasks      | elapsed:   17.6s\n",
            "[Parallel(n_jobs=2)]: Done 2000 out of 2000 | elapsed:   19.6s finished\n",
            "[Parallel(n_jobs=2)]: Using backend ThreadingBackend with 2 concurrent workers.\n",
            "[Parallel(n_jobs=2)]: Done  46 tasks      | elapsed:    0.2s\n",
            "[Parallel(n_jobs=2)]: Done 196 tasks      | elapsed:    0.7s\n",
            "[Parallel(n_jobs=2)]: Done 446 tasks      | elapsed:    1.6s\n",
            "[Parallel(n_jobs=2)]: Done 796 tasks      | elapsed:    2.9s\n",
            "[Parallel(n_jobs=2)]: Done 1246 tasks      | elapsed:    4.6s\n",
            "[Parallel(n_jobs=2)]: Done 1796 tasks      | elapsed:    6.6s\n",
            "[Parallel(n_jobs=2)]: Done 2000 out of 2000 | elapsed:    7.3s finished\n"
          ],
          "name": "stderr"
        }
      ]
    },
    {
      "cell_type": "code",
      "metadata": {
        "id": "XgHesvORe7Hi",
        "colab_type": "code",
        "colab": {
          "base_uri": "https://localhost:8080/",
          "height": 51
        },
        "outputId": "16fc0c7e-286b-4ada-f8d7-663d49871f4c"
      },
      "source": [
        "from sklearn.metrics import mean_squared_error\n",
        "\n",
        "mse_train=mean_squared_error(Y_train,y_train_pred)\n",
        "mse_test=mean_squared_error(Y_test,y_test_pred)\n",
        "print(mse_train)\n",
        "print(mse_test)"
      ],
      "execution_count": 147,
      "outputs": [
        {
          "output_type": "stream",
          "text": [
            "7.309974637006519\n",
            "55.571609196713844\n"
          ],
          "name": "stdout"
        }
      ]
    },
    {
      "cell_type": "code",
      "metadata": {
        "id": "QshLxATrf4dd",
        "colab_type": "code",
        "colab": {
          "base_uri": "https://localhost:8080/",
          "height": 51
        },
        "outputId": "bc217de8-3656-41de-a332-074afcc29198"
      },
      "source": [
        "from sklearn.metrics import mean_squared_error\n",
        "\n",
        "mse_train=mean_squared_error(Y_train,y_train_pred)\n",
        "mse_test=mean_squared_error(Y_test,y_test_pred)\n",
        "print(mse_train)\n",
        "print(mse_test)"
      ],
      "execution_count": 144,
      "outputs": [
        {
          "output_type": "stream",
          "text": [
            "7.36317290865784\n",
            "55.65935094715478\n"
          ],
          "name": "stdout"
        }
      ]
    },
    {
      "cell_type": "code",
      "metadata": {
        "id": "S1aM-807eKLM",
        "colab_type": "code",
        "colab": {
          "base_uri": "https://localhost:8080/",
          "height": 296
        },
        "outputId": "ae7ec4c6-7c1f-447f-e0d4-5fc821db7f6b"
      },
      "source": [
        "sns.distplot(Y_train-y_train_pred)"
      ],
      "execution_count": 140,
      "outputs": [
        {
          "output_type": "execute_result",
          "data": {
            "text/plain": [
              "<matplotlib.axes._subplots.AxesSubplot at 0x7f8256aacd30>"
            ]
          },
          "metadata": {
            "tags": []
          },
          "execution_count": 140
        },
        {
          "output_type": "display_data",
          "data": {
            "image/png": "[encoded data removed]",
            "text/plain": [
              "<Figure size 432x288 with 1 Axes>"
            ]
          },
          "metadata": {
            "tags": [],
            "needs_background": "light"
          }
        }
      ]
    },
    {
      "cell_type": "code",
      "metadata": {
        "id": "dFK-z6WueTKp",
        "colab_type": "code",
        "colab": {
          "base_uri": "https://localhost:8080/",
          "height": 296
        },
        "outputId": "281bf3d8-f4f4-4951-9ab1-a23b571b0480"
      },
      "source": [
        "sns.distplot(Y_test-y_test_pred)"
      ],
      "execution_count": 141,
      "outputs": [
        {
          "output_type": "execute_result",
          "data": {
            "text/plain": [
              "<matplotlib.axes._subplots.AxesSubplot at 0x7f82569184e0>"
            ]
          },
          "metadata": {
            "tags": []
          },
          "execution_count": 141
        },
        {
          "output_type": "display_data",
          "data": {
            "image/png": "[encoded data removed]",
            "text/plain": [
              "<Figure size 432x288 with 1 Axes>"
            ]
          },
          "metadata": {
            "tags": [],
            "needs_background": "light"
          }
        }
      ]
    },
    {
      "cell_type": "code",
      "metadata": {
        "id": "Sb-vr2F_ZIRk",
        "colab_type": "code",
        "colab": {}
      },
      "source": [
        "#training the model using random forest regressor\n",
        "from sklearn.model_selection import RandomizedSearchCV\n",
        "from sklearn.ensemble import RandomForestRegressor\n",
        "\n",
        "params={'n_estimators':[int(i) for i in np.linspace(100,2000,10)],\n",
        "        'max_depth':[int(i) for i in np.linspace(3,50,10)]\n",
        "}\n",
        "\n",
        "rf=RandomForestRegressor()\n",
        "rand_rf=RandomizedSearchCV(rf,params,n_jobs=-1,cv=3,verbose=1)\n",
        "rand_rf.fit(X_train,Y_train)\n",
        "print(rand_rf.best_params_)"
      ],
      "execution_count": null,
      "outputs": []
    },
    {
      "cell_type": "code",
      "metadata": {
        "id": "KfRp516HZISG",
        "colab_type": "code",
        "colab": {},
        "outputId": "72ffb7ef-3213-4a6f-f38d-fe65bc2ed6e2"
      },
      "source": [
        ""
      ],
      "execution_count": null,
      "outputs": [
        {
          "output_type": "execute_result",
          "data": {
            "text/plain": [
              "{'n_estimators': [100,\n",
              "  200,\n",
              "  300,\n",
              "  400,\n",
              "  500,\n",
              "  600,\n",
              "  700,\n",
              "  800,\n",
              "  900,\n",
              "  1000,\n",
              "  1100,\n",
              "  1200,\n",
              "  1300,\n",
              "  1400,\n",
              "  1500],\n",
              " 'max_depth': [3, 9, 16, 23, 30, 37, 44, 51, 58, 65, 72, 79, 86, 93, 100],\n",
              " 'min_samples_split': [1, 2, 5, 10],\n",
              " 'min_samples_leaf': [1, 2, 5, 10],\n",
              " 'max_features': ['auto', 'sqrt', 'log2']}"
            ]
          },
          "metadata": {
            "tags": []
          },
          "execution_count": 30
        }
      ]
    },
    {
      "cell_type": "code",
      "metadata": {
        "id": "4B7DYHbZlP_x",
        "colab_type": "code",
        "colab": {}
      },
      "source": [
        ""
      ],
      "execution_count": null,
      "outputs": []
    },
    {
      "cell_type": "code",
      "metadata": {
        "id": "XSSrHBytlzn9",
        "colab_type": "code",
        "colab": {}
      },
      "source": [
        "batsmen_bowlers=list(batsman_bowler_dict.keys())\n",
        "bat_bowl_team=list(bat_bowl_team_dict.keys())\n",
        "match_venue=list(venue_dict.keys())"
      ],
      "execution_count": 18,
      "outputs": []
    },
    {
      "cell_type": "code",
      "metadata": {
        "id": "esOqZaKhl13d",
        "colab_type": "code",
        "colab": {
          "base_uri": "https://localhost:8080/",
          "height": 102
        },
        "outputId": "f6f54640-2db3-4242-cdbe-772a75b72fb1"
      },
      "source": [
        "from flask import Flask, render_template, request\n",
        "import jsonify\n",
        "import requests\n",
        "import pickle\n",
        "import numpy as np\n",
        "import sklearn\n",
        "#from sklearn.preprocessing import StandardScaler\n",
        "app = Flask(__name__)\n",
        "#model = pickle.load(open('Rand_Forest_Regression_Model.pkl', 'rb'))\n",
        "@app.route('/',methods=['GET'])\n",
        "def Home():\n",
        "    return render_template('blog.html', Venues=match_venue,Bat_Bowl_Teams=bat_bowl_team,Batsmen_Bowlers=batsmen_bowlers)\n",
        "@app.route(\"/predict\", methods=['POST'])\n",
        "def predict():\n",
        "    if request.method == 'POST':\n",
        "        venue = request.form['venue']\n",
        "        venue=venue_dict[venue]\n",
        "        #print(venue)\n",
        "        bat_team=request.form['bat_team']\n",
        "        bat_team=bat_bowl_team_dict[bat_team]\n",
        "        #print(bat_team)\n",
        "        bowl_team = request.form['bowl_team']\n",
        "        bowl_team=bat_bowl_team_dict[bowl_team]\n",
        "        #print(bowl_team)\n",
        "        batsman=request.form['batsman']\n",
        "        batsman=batsman_bowler_dict[batsman]\n",
        "        #print(batsman)\n",
        "        bowler = request.form['bowler']\n",
        "        bowler=batsman_bowler_dict[bowler]\n",
        "        #print(bowler)\n",
        "        runs = int(request.form['runs'])\n",
        "        #print(runs)\n",
        "        wickets=int(request.form['wickets'])\n",
        "        #print(wickets)\n",
        "        overs =float(request.form['overs'])\n",
        "        #print(overs)\n",
        "        runs_last_5=int(request.form['runs_last_5'])\n",
        "        #print(runs_last_5)\n",
        "        wickets_last_5 = int(request.form['wickets_last_5'])\n",
        "        #print(wickets_last_5)\n",
        "        output=rf.predict([[runs,wickets,overs,runs_last_5,wickets_last_5,venue,bat_team,bowl_team,batsman,bowler]])\n",
        "        #print(output)\n",
        "        return render_template('blog.html',prediction_text=\"Predicted Score is {}\".format(output))\n",
        "    else:\n",
        "        return render_template('blog.html')\n",
        "    \n",
        "if __name__==\"__main__\":\n",
        "    app.run()"
      ],
      "execution_count": 41,
      "outputs": [
        {
          "output_type": "stream",
          "text": [
            " * Serving Flask app \"__main__\" (lazy loading)\n",
            " * Environment: production\n",
            "\u001b[31m   WARNING: This is a development server. Do not use it in a production deployment.\u001b[0m\n",
            "\u001b[2m   Use a production WSGI server instead.\u001b[0m\n",
            " * Debug mode: off\n"
          ],
          "name": "stdout"
        }
      ]
    },
    {
      "cell_type": "code",
      "metadata": {
        "id": "hEy2YKrgsD91",
        "colab_type": "code",
        "colab": {
          "base_uri": "https://localhost:8080/",
          "height": 34
        },
        "outputId": "def47d7d-94a6-425e-e55a-e74ff168ce8b"
      },
      "source": [
        "!git init"
      ],
      "execution_count": 42,
      "outputs": [
        {
          "output_type": "stream",
          "text": [
            "Initialized empty Git repository in /content/.git/\n"
          ],
          "name": "stdout"
        }
      ]
    },
    {
      "cell_type": "code",
      "metadata": {
        "id": "fOtFawlgsGhQ",
        "colab_type": "code",
        "colab": {
          "base_uri": "https://localhost:8080/",
          "height": 1000
        },
        "outputId": "35a74e27-633f-42e7-dee4-b3c73534e261"
      },
      "source": [
        "!git config — global user.email “You@Your.com”\n",
        "!git config — global user.name “Username”"
      ],
      "execution_count": 43,
      "outputs": [
        {
          "output_type": "stream",
          "text": [
            "usage: git config [<options>]\n",
            "\n",
            "Config file location\n",
            "    --global              use global config file\n",
            "    --system              use system config file\n",
            "    --local               use repository config file\n",
            "    -f, --file <file>     use given config file\n",
            "    --blob <blob-id>      read config from given blob object\n",
            "\n",
            "Action\n",
            "    --get                 get value: name [value-regex]\n",
            "    --get-all             get all values: key [value-regex]\n",
            "    --get-regexp          get values for regexp: name-regex [value-regex]\n",
            "    --get-urlmatch        get value specific for the URL: section[.var] URL\n",
            "    --replace-all         replace all matching variables: name value [value_regex]\n",
            "    --add                 add a new variable: name value\n",
            "    --unset               remove a variable: name [value-regex]\n",
            "    --unset-all           remove all matches: name [value-regex]\n",
            "    --rename-section      rename section: old-name new-name\n",
            "    --remove-section      remove a section: name\n",
            "    -l, --list            list all\n",
            "    -e, --edit            open an editor\n",
            "    --get-color           find the color configured: slot [default]\n",
            "    --get-colorbool       find the color setting: slot [stdout-is-tty]\n",
            "\n",
            "Type\n",
            "    --bool                value is \"true\" or \"false\"\n",
            "    --int                 value is decimal number\n",
            "    --bool-or-int         value is --bool or --int\n",
            "    --path                value is a path (file or directory name)\n",
            "    --expiry-date         value is an expiry date\n",
            "\n",
            "Other\n",
            "    -z, --null            terminate values with NUL byte\n",
            "    --name-only           show variable names only\n",
            "    --includes            respect include directives on lookup\n",
            "    --show-origin         show origin of config (file, standard input, blob, command line)\n",
            "\n",
            "usage: git config [<options>]\n",
            "\n",
            "Config file location\n",
            "    --global              use global config file\n",
            "    --system              use system config file\n",
            "    --local               use repository config file\n",
            "    -f, --file <file>     use given config file\n",
            "    --blob <blob-id>      read config from given blob object\n",
            "\n",
            "Action\n",
            "    --get                 get value: name [value-regex]\n",
            "    --get-all             get all values: key [value-regex]\n",
            "    --get-regexp          get values for regexp: name-regex [value-regex]\n",
            "    --get-urlmatch        get value specific for the URL: section[.var] URL\n",
            "    --replace-all         replace all matching variables: name value [value_regex]\n",
            "    --add                 add a new variable: name value\n",
            "    --unset               remove a variable: name [value-regex]\n",
            "    --unset-all           remove all matches: name [value-regex]\n",
            "    --rename-section      rename section: old-name new-name\n",
            "    --remove-section      remove a section: name\n",
            "    -l, --list            list all\n",
            "    -e, --edit            open an editor\n",
            "    --get-color           find the color configured: slot [default]\n",
            "    --get-colorbool       find the color setting: slot [stdout-is-tty]\n",
            "\n",
            "Type\n",
            "    --bool                value is \"true\" or \"false\"\n",
            "    --int                 value is decimal number\n",
            "    --bool-or-int         value is --bool or --int\n",
            "    --path                value is a path (file or directory name)\n",
            "    --expiry-date         value is an expiry date\n",
            "\n",
            "Other\n",
            "    -z, --null            terminate values with NUL byte\n",
            "    --name-only           show variable names only\n",
            "    --includes            respect include directives on lookup\n",
            "    --show-origin         show origin of config (file, standard input, blob, command line)\n",
            "\n"
          ],
          "name": "stdout"
        }
      ]
    },
    {
      "cell_type": "code",
      "metadata": {
        "id": "w9WJEooLsJlD",
        "colab_type": "code",
        "colab": {}
      },
      "source": [
        "!git add -A"
      ],
      "execution_count": null,
      "outputs": []
    },
    {
      "cell_type": "code",
      "metadata": {
        "id": "oWRP2lQlsMii",
        "colab_type": "code",
        "colab": {}
      },
      "source": [
        ""
      ],
      "execution_count": null,
      "outputs": []
    },
    {
      "cell_type": "code",
      "metadata": {
        "id": "kj54GzqxoCky",
        "colab_type": "code",
        "colab": {
          "base_uri": "https://localhost:8080/",
          "height": 136
        },
        "outputId": "96618f69-8828-4bd5-c12e-b79bb598a638"
      },
      "source": [
        "rf.predict([[80,5,9,25,3,3,4,6,85,32]])"
      ],
      "execution_count": 32,
      "outputs": [
        {
          "output_type": "stream",
          "text": [
            "[Parallel(n_jobs=2)]: Using backend ThreadingBackend with 2 concurrent workers.\n",
            "[Parallel(n_jobs=2)]: Done  46 tasks      | elapsed:    0.0s\n",
            "[Parallel(n_jobs=2)]: Done 196 tasks      | elapsed:    0.0s\n",
            "[Parallel(n_jobs=2)]: Done 446 tasks      | elapsed:    0.1s\n",
            "[Parallel(n_jobs=2)]: Done 796 tasks      | elapsed:    0.1s\n",
            "[Parallel(n_jobs=2)]: Done 1000 out of 1000 | elapsed:    0.2s finished\n"
          ],
          "name": "stderr"
        },
        {
          "output_type": "execute_result",
          "data": {
            "text/plain": [
              "array([152.055])"
            ]
          },
          "metadata": {
            "tags": []
          },
          "execution_count": 32
        }
      ]
    },
    {
      "cell_type": "code",
      "metadata": {
        "id": "mVOEW2lLmXLx",
        "colab_type": "code",
        "colab": {
          "base_uri": "https://localhost:8080/",
          "height": 187
        },
        "outputId": "d2db06f7-6fac-4b25-c992-6f3219f012e4"
      },
      "source": [
        "[runs,wickets,overs,runs_last_5,wickets_last_5,venue,bat_team,bowl_team,batsman,bowler]"
      ],
      "execution_count": 29,
      "outputs": [
        {
          "output_type": "execute_result",
          "data": {
            "text/plain": [
              "['runs',\n",
              " 'wickets',\n",
              " 'overs',\n",
              " 'runs_last_5',\n",
              " 'wickets_last_5',\n",
              " 'venue',\n",
              " 'bat_team',\n",
              " 'bowl_team',\n",
              " 'batsman',\n",
              " 'bowler']"
            ]
          },
          "metadata": {
            "tags": []
          },
          "execution_count": 29
        }
      ]
    },
    {
      "cell_type": "code",
      "metadata": {
        "id": "1dyYxZTwl7SJ",
        "colab_type": "code",
        "colab": {
          "base_uri": "https://localhost:8080/",
          "height": 163
        },
        "outputId": "ed57a6cd-5b03-4b04-9db6-e8abdc877fee"
      },
      "source": [
        "output"
      ],
      "execution_count": 36,
      "outputs": [
        {
          "output_type": "error",
          "ename": "NameError",
          "evalue": "ignored",
          "traceback": [
            "\u001b[0;31m---------------------------------------------------------------------------\u001b[0m",
            "\u001b[0;31mNameError\u001b[0m                                 Traceback (most recent call last)",
            "\u001b[0;32m<ipython-input-36-61353e8b2d5a>\u001b[0m in \u001b[0;36m<module>\u001b[0;34m()\u001b[0m\n\u001b[0;32m----> 1\u001b[0;31m \u001b[0moutput\u001b[0m\u001b[0;34m\u001b[0m\u001b[0;34m\u001b[0m\u001b[0m\n\u001b[0m",
            "\u001b[0;31mNameError\u001b[0m: name 'output' is not defined"
          ]
        }
      ]
    }
  ]
}